{
 "cells": [
  {
   "cell_type": "code",
   "execution_count": 6,
   "id": "3cc4efaf",
   "metadata": {},
   "outputs": [
    {
     "name": "stdout",
     "output_type": "stream",
     "text": [
      "One dimensional array:\n",
      "[0 1 2 3 4]\n",
      "\n",
      "Two dimensional array:\n",
      "[[0 1 2 3 4]\n",
      " [5 6 7 8 9]]\n"
     ]
    }
   ],
   "source": [
    "#Q1. .Write a code to combine  a one and a two-dimensional NumPy Array\n",
    "import numpy as np\n",
    "  \n",
    "num_1d = np.arange(5)\n",
    "print(\"One dimensional array:\")\n",
    "print(num_1d)\n",
    "  \n",
    "num_2d = np.arange(10).reshape(2,5)\n",
    "print(\"\\nTwo dimensional array:\")\n",
    "print(num_2d)\n",
    "  \n"
   ]
  },
  {
   "cell_type": "code",
   "execution_count": 8,
   "id": "d7b0dd5f",
   "metadata": {},
   "outputs": [
    {
     "name": "stdout",
     "output_type": "stream",
     "text": [
      "[[ 1  2  3  4  5]\n",
      " [ 6  7  8  9 10]\n",
      " [11 12 13 14 15]\n",
      " [16 17 18 19 20]]\n",
      "True\n"
     ]
    }
   ],
   "source": [
    "#Q2.  Write a code to check whether a Numpy array contains a specified row. \n",
    "import numpy as np\n",
    "arr = np.array([[1, 2, 3, 4, 5],\n",
    "                   [6, 7, 8, 9, 10],\n",
    "                   [11, 12, 13, 14, 15],\n",
    "                   [16, 17, 18, 19, 20]\n",
    "                   ])\n",
    "  \n",
    "# view array\n",
    "print(arr)\n",
    "  \n",
    "# check for some lists\n",
    "print([1, 2, 3, 4, 5] in arr.tolist())"
   ]
  },
  {
   "cell_type": "code",
   "execution_count": 12,
   "id": "93437a3f",
   "metadata": {},
   "outputs": [
    {
     "data": {
      "text/html": [
       "<div>\n",
       "<style scoped>\n",
       "    .dataframe tbody tr th:only-of-type {\n",
       "        vertical-align: middle;\n",
       "    }\n",
       "\n",
       "    .dataframe tbody tr th {\n",
       "        vertical-align: top;\n",
       "    }\n",
       "\n",
       "    .dataframe thead th {\n",
       "        text-align: right;\n",
       "    }\n",
       "</style>\n",
       "<table border=\"1\" class=\"dataframe\">\n",
       "  <thead>\n",
       "    <tr style=\"text-align: right;\">\n",
       "      <th></th>\n",
       "      <th>Name</th>\n",
       "      <th>Age</th>\n",
       "      <th>University</th>\n",
       "    </tr>\n",
       "  </thead>\n",
       "  <tbody>\n",
       "    <tr>\n",
       "      <th>0</th>\n",
       "      <td>Atishara</td>\n",
       "      <td>20</td>\n",
       "      <td>SIRT</td>\n",
       "    </tr>\n",
       "    <tr>\n",
       "      <th>1</th>\n",
       "      <td>Aishwarya</td>\n",
       "      <td>21</td>\n",
       "      <td>JNU</td>\n",
       "    </tr>\n",
       "    <tr>\n",
       "      <th>2</th>\n",
       "      <td>Shaurya</td>\n",
       "      <td>22</td>\n",
       "      <td>DU</td>\n",
       "    </tr>\n",
       "    <tr>\n",
       "      <th>3</th>\n",
       "      <td>Shivangi</td>\n",
       "      <td>21</td>\n",
       "      <td>BHU</td>\n",
       "    </tr>\n",
       "  </tbody>\n",
       "</table>\n",
       "</div>"
      ],
      "text/plain": [
       "        Name  Age University\n",
       "0   Atishara   20       SIRT\n",
       "1  Aishwarya   21        JNU\n",
       "2    Shaurya   22         DU\n",
       "3   Shivangi   21        BHU"
      ]
     },
     "execution_count": 12,
     "metadata": {},
     "output_type": "execute_result"
    }
   ],
   "source": [
    "#Q3. Write a Pandas code to create and display a DataFrame from a specified dictionary data which has the index labels\n",
    "import pandas as pd\n",
    "  \n",
    "# dictionary with list object in values\n",
    "details = {\n",
    "    'Name' : ['Atishara', 'Aishwarya', 'Shaurya', 'Shivangi'],\n",
    "    'Age' : [20, 21, 22, 21],\n",
    "    'University' : ['SIRT', 'JNU', 'DU', 'BHU'],\n",
    "}\n",
    "  \n",
    "# creating a Dataframe object \n",
    "df = pd.DataFrame(details)\n",
    "  \n",
    "df"
   ]
  },
  {
   "cell_type": "code",
   "execution_count": 13,
   "id": "49b4f451",
   "metadata": {},
   "outputs": [
    {
     "name": "stdout",
     "output_type": "stream",
     "text": [
      "  Category  Marks\n",
      "0    Array     20\n",
      "1    Stack     21\n",
      "2    Queue     19\n"
     ]
    }
   ],
   "source": [
    "#Q. 4.Write a pandas code to create DataFrame from dict of narray/lists\n",
    "import pandas as pd\n",
    " \n",
    "# initialise data of lists.\n",
    "data = {'Category':['Array', 'Stack', 'Queue'],\n",
    "        'Marks':[20, 21, 19]}\n",
    " \n",
    "# Create DataFrame\n",
    "df = pd.DataFrame(data)\n",
    " \n",
    "# Print the output.\n",
    "print(df )"
   ]
  },
  {
   "cell_type": "code",
   "execution_count": 14,
   "id": "84c5898f",
   "metadata": {},
   "outputs": [
    {
     "name": "stdout",
     "output_type": "stream",
     "text": [
      "       Name  Age\n",
      "0       Tia   10\n",
      "1    Shreya   15\n",
      "2  Atishara   20\n"
     ]
    }
   ],
   "source": [
    "#Q. 5. Write a pandas code to create Pandas dataframe using list of lists\n",
    "import pandas as pd\n",
    " \n",
    "# initialize list of lists\n",
    "data = [['Tia', 10], ['Shreya', 15], ['Atishara', 20]]\n",
    " \n",
    "# Create the pandas DataFrame\n",
    "df = pd.DataFrame(data, columns = ['Name', 'Age'])\n",
    " \n",
    "# print dataframe.\n",
    "print(df )"
   ]
  },
  {
   "cell_type": "code",
   "execution_count": null,
   "id": "1cc57159",
   "metadata": {},
   "outputs": [],
   "source": []
  }
 ],
 "metadata": {
  "kernelspec": {
   "display_name": "Python 3 (ipykernel)",
   "language": "python",
   "name": "python3"
  },
  "language_info": {
   "codemirror_mode": {
    "name": "ipython",
    "version": 3
   },
   "file_extension": ".py",
   "mimetype": "text/x-python",
   "name": "python",
   "nbconvert_exporter": "python",
   "pygments_lexer": "ipython3",
   "version": "3.9.12"
  }
 },
 "nbformat": 4,
 "nbformat_minor": 5
}
